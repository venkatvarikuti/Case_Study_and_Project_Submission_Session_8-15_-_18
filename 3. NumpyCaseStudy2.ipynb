{
 "cells": [
  {
   "cell_type": "markdown",
   "metadata": {},
   "source": [
    "# This case study consists of 1000 marks and the solution file is expected to be submitted in the upcoming session for evaluation."
   ]
  },
  {
   "cell_type": "code",
   "execution_count": 1,
   "metadata": {},
   "outputs": [],
   "source": [
    "import numpy as np"
   ]
  },
  {
   "cell_type": "markdown",
   "metadata": {},
   "source": [
    "### 1.Create two matrices of 3*3 and perform the arithmatic operations metioned in below \"print\" statements"
   ]
  },
  {
   "cell_type": "code",
   "execution_count": 24,
   "metadata": {
    "scrolled": false
   },
   "outputs": [
    {
     "name": "stdout",
     "output_type": "stream",
     "text": [
      "\n",
      "1st Matrix of random single-digit numbers\n",
      "----------------------------------------\n",
      " [[7 3 1]\n",
      " [6 6 5]\n",
      " [7 6 7]]\n",
      "\n",
      "2nd Matrix of random single-digit numbers\n",
      "----------------------------------------\n",
      " [[8 8 3]\n",
      " [4 2 8]\n",
      " [5 4 8]]\n",
      "\n",
      "Addition\n",
      "------------------\n",
      " [[15 11  4]\n",
      " [10  8 13]\n",
      " [12 10 15]]\n",
      "\n",
      "Multiplication\n",
      "------------------\n",
      " [[ 73  66  53]\n",
      " [ 97  80 106]\n",
      " [115  96 125]]\n",
      "\n",
      "Division\n",
      "------------------\n",
      " [[0.875      0.375      0.33333333]\n",
      " [1.5        3.         0.625     ]\n",
      " [1.4        1.5        0.875     ]]\n",
      "\n",
      "Linear combination: 3*A - 2*B\n",
      "-----------------------------\n",
      " [[ 5 -7 -3]\n",
      " [10 14 -1]\n",
      " [11 10  5]]\n",
      "\n",
      "Addition of a scalar (100)\n",
      "-------------------------\n",
      " [[107 103 101]\n",
      " [106 106 105]\n",
      " [107 106 107]]\n",
      "\n",
      "Exponentiation, matrix cubed here\n",
      "----------------------------------------\n",
      " [[ 991  666  502]\n",
      " [1792 1269 1030]\n",
      " [2134 1512 1231]]\n",
      "\n",
      "Exponentiation, mat1 sq-root using pow function\n",
      "-------------------------------------------\n",
      " [[49  9  1]\n",
      " [36 36 25]\n",
      " [49 36 49]]\n"
     ]
    }
   ],
   "source": [
    "mat1 = np.asmatrix(np.random.randint(1,9,(3,3)))\n",
    "mat2 = np.asmatrix(np.random.randint(1,9,(3,3)))\n",
    "print(\"\\n1st Matrix of random single-digit numbers\\n----------------------------------------\\n\",mat1)\n",
    "print(\"\\n2nd Matrix of random single-digit numbers\\n----------------------------------------\\n\",mat2)\n",
    "\n",
    "\n",
    "print(\"\\nAddition\\n------------------\\n\", mat1 +mat2)\n",
    "print(\"\\nMultiplication\\n------------------\\n\", mat1 *mat2)\n",
    "\n",
    "\n",
    "print(\"\\nDivision\\n------------------\\n\", mat1/mat2)\n",
    "print(\"\\nLinear combination: 3*A - 2*B\\n-----------------------------\\n\", 3*mat1 -2*mat2)\n",
    "\n",
    "\n",
    "print(\"\\nAddition of a scalar (100)\\n-------------------------\\n\", mat1+100)\n",
    "\n",
    "\n",
    "print(\"\\nExponentiation, matrix cubed here\\n----------------------------------------\\n\", mat1**3)\n",
    "print(\"\\nExponentiation, mat1 sq-root using pow function\\n-------------------------------------------\\n\",np.power(mat1,2))\n"
   ]
  },
  {
   "cell_type": "markdown",
   "metadata": {},
   "source": [
    "Some operations, such as += and *=, act in place to modify an existing array rather than create a new one."
   ]
  },
  {
   "cell_type": "markdown",
   "metadata": {},
   "source": [
    "NumPy provides familiar mathematical functions such as sin, cos, and exp. In NumPy, these are called “universal functions”(ufunc). Within NumPy, these functions operate elementwise on an array, producing an array as output."
   ]
  },
  {
   "cell_type": "markdown",
   "metadata": {},
   "source": [
    "### 2.Create two 3 * 3 matrices and perform the following operations as describe in print statement."
   ]
  },
  {
   "cell_type": "code",
   "execution_count": 28,
   "metadata": {
    "scrolled": true
   },
   "outputs": [
    {
     "name": "stdout",
     "output_type": "stream",
     "text": [
      "\n",
      "1st Matrix of random single-digit numbers\n",
      " -------------------------------------------------- \n",
      " [[7 1 8]\n",
      " [2 8 6]\n",
      " [2 2 6]]\n",
      "\n",
      "2nd Matrix of random single-digit numbers\n",
      " -------------------------------------------------- \n",
      " [[8 2 3]\n",
      " [6 8 1]\n",
      " [6 1 5]]\n",
      "\n",
      "Sum of all numbers in 1st matrix\n",
      " -------------------------------------------------- \n",
      " 42\n",
      "\n",
      "Sum of all numbers in columns of 1st matrix\n",
      " -------------------------------------------------- \n",
      " 42\n",
      "\n",
      "Sum of all numbers in rows of 1st matrix\n",
      " -------------------------------------------------- \n",
      " 42\n",
      "\n",
      "Product of all numbers in rows of 1st matrix\n",
      " -------------------------------------------------- \n",
      " 129024\n",
      "\n",
      "Product of all numbers in columns of 2nd matrix\n",
      " -------------------------------------------------- \n",
      " 129024\n",
      "\n",
      "Mean of all numbers in 1st matrix\n",
      " -------------------------------------------------- \n",
      " 4.666666666666667\n",
      "\n",
      "Standard deviation of all numbers in 1st matrix\n",
      " -------------------------------------------------- \n",
      " 2.70801280154532\n",
      "\n",
      "Modified matrix of random numbers from 1 to 99\n",
      " -------------------------------------------------- \n",
      " [[61 47 72]\n",
      " [18 76  9]\n",
      " [ 1 87 88]]\n",
      "\n",
      "Standard deviation of all numbers in the modified matrix, a larger number\n",
      " -------------------------------------------------------------------------------- \n",
      " 31.97221015541813 , 88\n",
      "\n",
      "Variance of all numbers in the modified matrix, a larger number\n",
      " -------------------------------------------------------------------------------- \n",
      " 1022.2222222222222 , 88\n",
      "\n",
      "Median of all numbers in the modified matrix\n",
      " ------------------------------------------------------------ \n",
      " [[ 1.  9. 47. 18. 61. 72. 76. 87. 88.]]\n"
     ]
    }
   ],
   "source": [
    "from numpy.random import randint as ri\n",
    "mat1 = np.asmatrix(ri(1,9,(3,3)))\n",
    "mat2 = np.asmatrix(ri(1,9,(3,3)))\n",
    "print(\"\\n1st Matrix of random single-digit numbers\\n\",\"-\"*50,\"\\n\",mat1)\n",
    "print(\"\\n2nd Matrix of random single-digit numbers\\n\",\"-\"*50,\"\\n\",mat2)\n",
    "\n",
    "\n",
    "print(\"\\nSum of all numbers in 1st matrix\\n\",\"-\"*50,\"\\n\",np.sum(mat1))\n",
    "print(\"\\nSum of all numbers in columns of 1st matrix\\n\",\"-\"*50,\"\\n\",mat1[0][0].sum() + mat1[1].sum() +mat1[2].sum())\n",
    "\n",
    "\n",
    "print(\"\\nSum of all numbers in rows of 1st matrix\\n\",\"-\"*50,\"\\n\",mat1[0].sum() + mat1[1].sum() + mat1[2].sum())\n",
    "print(\"\\nProduct of all numbers in rows of 1st matrix\\n\",\"-\"*50,\"\\n\",mat1[0].prod() * mat1[1].prod() * mat1[2].prod())\n",
    "\n",
    "\n",
    "print(\"\\nProduct of all numbers in columns of 2nd matrix\\n\",\"-\"*50,\"\\n\",mat1[0][0].prod() * mat1[1].prod() * mat1[2].prod())\n",
    "print(\"\\nMean of all numbers in 1st matrix\\n\",\"-\"*50,\"\\n\",mat1.mean())\n",
    "\n",
    "\n",
    "print(\"\\nStandard deviation of all numbers in 1st matrix\\n\",\"-\"*50,\"\\n\",mat1.std())\n",
    "\n",
    "\n",
    "mat1 = np.asmatrix(ri(1,99,(3,3)))\n",
    "print(\"\\nModified matrix of random numbers from 1 to 99\\n\",\"-\"*50,\"\\n\",mat1)\n",
    "\n",
    "\n",
    "print(\"\\nStandard deviation of all numbers in the modified matrix, a larger number\\n\",\"-\"*80,\"\\n\",mat1.std(),\",\", mat1.max())\n",
    "\n",
    "\n",
    "print(\"\\nVariance of all numbers in the modified matrix, a larger number\\n\",\"-\"*80,\"\\n\",mat1.var(),\",\",mat1.max())\n",
    "\n",
    "\n",
    "print(\"\\nMedian of all numbers in the modified matrix\\n\",\"-\"*60,\"\\n\",np.median(mat1.reshape(1,9)))\n"
   ]
  },
  {
   "cell_type": "markdown",
   "metadata": {},
   "source": [
    "###  3.Create a 3 \\* 3 Matrix and Modify its shape to 9\\*1 matrix."
   ]
  },
  {
   "cell_type": "code",
   "execution_count": 40,
   "metadata": {},
   "outputs": [
    {
     "name": "stdout",
     "output_type": "stream",
     "text": [
      "[[44 25 55]\n",
      " [ 3 67  3]\n",
      " [60 73 52]]\n"
     ]
    },
    {
     "data": {
      "text/plain": [
       "matrix([[44],\n",
       "        [25],\n",
       "        [55],\n",
       "        [ 3],\n",
       "        [67],\n",
       "        [ 3],\n",
       "        [60],\n",
       "        [73],\n",
       "        [52]])"
      ]
     },
     "execution_count": 40,
     "metadata": {},
     "output_type": "execute_result"
    }
   ],
   "source": [
    "##Solution\n",
    "mat1 = np.asmatrix(ri(1,100,(3,3)))\n",
    "print(mat1)\n",
    "mat1.reshape(9,1)"
   ]
  },
  {
   "cell_type": "markdown",
   "metadata": {},
   "source": [
    "### 4.Sort"
   ]
  },
  {
   "cell_type": "code",
   "execution_count": 55,
   "metadata": {},
   "outputs": [
    {
     "name": "stdout",
     "output_type": "stream",
     "text": [
      "\n",
      "Vector of 10 random integers from 1 to 100\n",
      " -------------------------------------------------- \n",
      " [66 12  7 46 31  5 76 47 22 64]\n",
      "\n",
      "Here is the sorted vector\n",
      " -------------------------------------------------- \n",
      " [ 5  7 12 22 31 46 47 64 66 76]\n"
     ]
    }
   ],
   "source": [
    "A = ri(1,100,10) # Vector of random interegrs\n",
    "print(\"\\nVector of 10 random integers from 1 to 100\\n\",'-'*50,\"\\n\",A)\n",
    "print(\"\\nHere is the sorted vector\\n\",'-'*50,\"\\n\",np.sort(A))\n"
   ]
  },
  {
   "cell_type": "code",
   "execution_count": 62,
   "metadata": {},
   "outputs": [
    {
     "name": "stdout",
     "output_type": "stream",
     "text": [
      "\n",
      "5x5 Matrix of random integers\n",
      " -------------------------------------------------- \n",
      " [[14 10 63 44 59]\n",
      " [60 11 37 38 61]\n",
      " [26 56 94 75  8]\n",
      " [39 40 35 12 45]\n",
      " [44 69 27  8 55]]\n",
      "\n",
      "Here is the sorted matrix along each row\n",
      " -------------------------------------------------- \n",
      " [[10 14 44 59 63]\n",
      " [11 37 38 60 61]\n",
      " [ 8 26 56 75 94]\n",
      " [12 35 39 40 45]\n",
      " [ 8 27 44 55 69]]\n",
      "\n",
      "Here is the sorted matrix along each column\n",
      " -------------------------------------------------- \n",
      " [[14 10 27  8  8]\n",
      " [26 11 35 12 45]\n",
      " [39 40 37 38 55]\n",
      " [44 56 63 44 59]\n",
      " [60 69 94 75 61]]\n"
     ]
    }
   ],
   "source": [
    "M = np.asmatrix(ri(1,100,(5,5))) #  5*5 Matrix of random interegrs\n",
    "print(\"\\n5x5 Matrix of random integers\\n\",'-'*50,\"\\n\",M)\n",
    "print(\"\\nHere is the sorted matrix along each row\\n\",'-'*50,\"\\n\",np.sort(M)) # Default axis =1\n",
    "print(\"\\nHere is the sorted matrix along each column\\n\",'-'*50,\"\\n\",np.sort(M,axis=0))"
   ]
  },
  {
   "cell_type": "markdown",
   "metadata": {},
   "source": [
    "### 5.Create a,b,c  10 element vectors of random integers and perform the respective operation mentioned in print statement"
   ]
  },
  {
   "cell_type": "code",
   "execution_count": 42,
   "metadata": {},
   "outputs": [
    {
     "name": "stdout",
     "output_type": "stream",
     "text": [
      "a: [41 53 53 15 40 83 43 97 15 47]\n",
      "b: [ 4 61 85 56 40 58 57 40 57 11]\n",
      "c: [15 56 12 23 83 43 67 19 69 30]\n",
      "Max of a: 97\n",
      "Max of b: 85\n",
      "Max of a location: 7\n",
      "Max of b location: 2\n",
      "Max of c location: 4\n",
      "Max of a: 97\n",
      "Max of b: 85\n",
      "Max of a location: 7\n",
      "Max of b location: 2\n",
      "Max of c location: 4\n"
     ]
    }
   ],
   "source": [
    "# Fill the following ***** with appropriate solution.\n",
    "a= ri(1,100,10)\n",
    "b=ri(1,100,10)\n",
    "c=ri(1,100,10)\n",
    "\n",
    "print(\"a:\", a)\n",
    "print(\"b:\", b)\n",
    "print(\"c:\", c)\n",
    "\n",
    "print(\"Max of a:\", a.max())\n",
    "print(\"Max of b:\",b.max())\n",
    "\n",
    "\n",
    "\n",
    "print(\"Max of a location:\", list(a).index(a.max()))\n",
    "print(\"Max of b location:\", list(b).index(b.max()))\n",
    "print(\"Max of c location:\", list(c).index(c.max()))\n",
    "\n",
    "print(\"Max of a:\", a.max())\n",
    "print(\"Max of b:\", b.max())\n",
    "\n",
    "\n",
    "print(\"Max of a location:\", list(a).index(a.max()))\n",
    "print(\"Max of b location:\", list(b).index(b.max()))\n",
    "print(\"Max of c location:\", list(c).index(c.max()))\n",
    "\n"
   ]
  },
  {
   "cell_type": "markdown",
   "metadata": {},
   "source": [
    "## Universal functions\n",
    "\n",
    "6. Create 3*3 matrices of random single-digit numbers.<br/>\n",
    "Apply universal functions on it. (square root,exponetial,log10,Modulo etc.)"
   ]
  },
  {
   "cell_type": "code",
   "execution_count": 50,
   "metadata": {},
   "outputs": [
    {
     "name": "stdout",
     "output_type": "stream",
     "text": [
      "\n",
      "1st Matrix of random single-digit numbers\n",
      "----------------------------------------\n",
      " [[35 88 37]\n",
      " [23 57 54]\n",
      " [54 83 58]]\n",
      "\n",
      "2nd Matrix of random single-digit numbers\n",
      "----------------------------------------\n",
      " [[57 40 30]\n",
      " [66 52 97]\n",
      " [59 53 24]]\n",
      "\n",
      "Sq-root of 1st matrix using np\n",
      "------------------\n",
      " [[5.91607978 9.38083152 6.08276253]\n",
      " [4.79583152 7.54983444 7.34846923]\n",
      " [7.34846923 9.11043358 7.61577311]]\n",
      "\n",
      "Exponential power of 1st matrix using np\n",
      " -------------------------------------------------- \n",
      " [[1225 7744 1369]\n",
      " [ 529 3249 2916]\n",
      " [2916 6889 3364]]\n",
      "\n",
      "10-base logarithm on 1st matrix using np\n",
      " -------------------------------------------------- \n",
      " [[1.54406804 1.94448267 1.56820172]\n",
      " [1.36172784 1.75587486 1.73239376]\n",
      " [1.73239376 1.91907809 1.76342799]]\n",
      "\n",
      "Modulo reminder using np\n",
      " -------------------------------------------------- \n",
      " [[1 0 1]\n",
      " [1 1 0]\n",
      " [0 1 0]]\n"
     ]
    }
   ],
   "source": [
    "\n",
    "mat1 = np.asmatrix(ri(1,100,(3,3))) \n",
    "mat2 = np.asmatrix(ri(1,100,(3,3)))\n",
    "print(\"\\n1st Matrix of random single-digit numbers\\n----------------------------------------\\n\",mat1)\n",
    "print(\"\\n2nd Matrix of random single-digit numbers\\n----------------------------------------\\n\",mat2)\n",
    "\n",
    "\n",
    "print(\"\\nSq-root of 1st matrix using np\\n------------------\\n\", np.sqrt(mat1))\n",
    "\n",
    "\n",
    "print(\"\\nExponential power of 1st matrix using np\\n\",'-'*50,\"\\n\", np.power(mat1,2))\n",
    "\n",
    "\n",
    "print(\"\\n10-base logarithm on 1st matrix using np\\n\",'-'*50,\"\\n\", np.log10(mat1))\n",
    "\n",
    "\n",
    "print(\"\\nModulo reminder using np\\n\",'-'*50,\"\\n\", np.remainder(mat1,2))\n"
   ]
  },
  {
   "cell_type": "markdown",
   "metadata": {},
   "source": [
    "### 7.Generating matrices from distributions"
   ]
  },
  {
   "cell_type": "code",
   "execution_count": 67,
   "metadata": {},
   "outputs": [
    {
     "name": "stdout",
     "output_type": "stream",
     "text": [
      "Random number generation (from Uniform distribution)\n",
      "[[0.  0.2 0.4]\n",
      " [0.6 0.8 1. ]]\n",
      "Numbers from Normal distribution with zero mean and standard deviation 1 i.e. standard normal\n",
      "2.293225882532262\n",
      "Random integer vector: [53 77 69 46 65 90 41  8  8 34]\n",
      "\n",
      "Random integer matrix\n",
      "\n",
      "20 samples drawn from a dice throw: [3 3 5 3 5 1 3 5 5 2 2 2 2 5 4 5 2 2 2 3]\n"
     ]
    }
   ],
   "source": [
    "\n",
    "print(\"Random number generation (from Uniform distribution)\")\n",
    "print(np.linspace(0,1,6).reshape(2,3))# 2 by 3 matrix with random numbers ranging from 0 to 1, Note no Tuple is necessary \n",
    "\n",
    "print(\"Numbers from Normal distribution with zero mean and standard deviation 1 i.e. standard normal\")\n",
    "print(np.random.normal(1))\n",
    "\n",
    "print(\"Random integer vector:\",np.random.randint(1,100,10)) #randint (low, high, # of samples to be drawn)\n",
    "print (\"\\nRandom integer matrix\")\n",
    "#print(********) #randint (low, high, # of samples to be drawn in a tuple to form a matrix)\n",
    "\n",
    "print(\"\\n20 samples drawn from a dice throw:\",np.random.randint(1,6,20)) #20 samples drawn from a dice throw"
   ]
  },
  {
   "cell_type": "markdown",
   "metadata": {},
   "source": [
    "### 8.Find the nearest value from a given number in an array using NumPy."
   ]
  },
  {
   "cell_type": "code",
   "execution_count": 66,
   "metadata": {},
   "outputs": [
    {
     "data": {
      "text/plain": [
       "9.303476295295141"
      ]
     },
     "execution_count": 66,
     "metadata": {},
     "output_type": "execute_result"
    }
   ],
   "source": [
    "#Steps\n",
    "#Create an array of 5 random element from 1 to 12\n",
    "x = np.random.uniform(1, 12, 5)\n",
    "v =10\n",
    "n = x.flat[np.abs(x - v).argmin()]\n",
    "n\n",
    "#Suppose find the nearest values of 10 in an array so set value=10\n",
    "#find the index where difference is minimum and get the element"
   ]
  },
  {
   "cell_type": "markdown",
   "metadata": {},
   "source": [
    "### 9.Write code using numpy to produce following output\n",
    "[[0 0 0] [0 1 2] [0 2 4]]"
   ]
  },
  {
   "cell_type": "code",
   "execution_count": 72,
   "metadata": {},
   "outputs": [
    {
     "name": "stdout",
     "output_type": "stream",
     "text": [
      "[[0 0 0]\n",
      " [0 1 2]\n",
      " [0 2 4]]\n"
     ]
    }
   ],
   "source": [
    "array = np.array([0,0,0,0,1,2,0,2,4])\n",
    "print(array.reshape(3,3))"
   ]
  }
 ],
 "metadata": {
  "kernelspec": {
   "display_name": "Python 3",
   "language": "python",
   "name": "python3"
  },
  "language_info": {
   "codemirror_mode": {
    "name": "ipython",
    "version": 3
   },
   "file_extension": ".py",
   "mimetype": "text/x-python",
   "name": "python",
   "nbconvert_exporter": "python",
   "pygments_lexer": "ipython3",
   "version": "3.7.0"
  }
 },
 "nbformat": 4,
 "nbformat_minor": 2
}
